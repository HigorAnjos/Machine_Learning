{
  "nbformat": 4,
  "nbformat_minor": 0,
  "metadata": {
    "colab": {
      "name": "Projeto #1 Classificação binária breast cancer.ipynb",
      "provenance": [],
      "authorship_tag": "ABX9TyMrXsdcWBleROqtEbQpSNLT",
      "include_colab_link": true
    },
    "kernelspec": {
      "name": "python3",
      "display_name": "Python 3"
    },
    "language_info": {
      "name": "python"
    }
  },
  "cells": [
    {
      "cell_type": "markdown",
      "metadata": {
        "id": "view-in-github",
        "colab_type": "text"
      },
      "source": [
        "<a href=\"https://colab.research.google.com/github/HigorAnjos/Machine_Learning/blob/master/lassificacao-Binaria-Breast-Cancer/Projeto_1_Classifica%C3%A7%C3%A3o_bin%C3%A1ria_breast_cancer.ipynb\" target=\"_parent\"><img src=\"https://colab.research.google.com/assets/colab-badge.svg\" alt=\"Open In Colab\"/></a>"
      ]
    },
    {
      "cell_type": "markdown",
      "metadata": {
        "id": "Xpr0rslFoldh"
      },
      "source": [
        "# Projeto 1: Classificação binária brest cancer"
      ]
    },
    {
      "cell_type": "code",
      "metadata": {
        "id": "RQtkYa3Nop85"
      },
      "source": [
        ""
      ],
      "execution_count": null,
      "outputs": []
    }
  ]
}